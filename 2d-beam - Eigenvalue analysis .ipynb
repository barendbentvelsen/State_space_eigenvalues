{
 "cells": [
  {
   "cell_type": "markdown",
   "metadata": {},
   "source": [
    "# Modal analysis of a 2D-beam"
   ]
  },
  {
   "cell_type": "markdown",
   "metadata": {},
   "source": [
    "Notebook to introduce Modal analysis in FEniCS.\n",
    "\n",
    "What will be shown here is a 2D-beam clamped on the left hand side. "
   ]
  },
  {
   "cell_type": "code",
   "execution_count": 1,
   "metadata": {
    "collapsed": true
   },
   "outputs": [],
   "source": [
    "from petsc4py import PETSc\n",
    "from slepc4py import SLEPc\n",
    "from dolfin import *\n",
    "% matplotlib inline\n",
    "import mshr\n",
    "from MA_tools import get_interior_index_set, reduce_matrix, extract_modes\n",
    "import numpy as np\n",
    "import matplotlib as mpl\n",
    "import matplotlib.pyplot as plt"
   ]
  },
  {
   "cell_type": "markdown",
   "metadata": {},
   "source": [
    "The beam is modeled by a rectangular domain that is meshed using <code>mshr</code>. The left hand side and right hand side of the domain are defined to apply the clamped boundary condition and loading."
   ]
  },
  {
   "cell_type": "code",
   "execution_count": 2,
   "metadata": {
    "collapsed": false
   },
   "outputs": [
    {
     "data": {
      "image/png": "[encoded data removed]",
      "text/plain": [
       "<matplotlib.figure.Figure at 0x7f97d479ac10>"
      ]
     },
     "metadata": {},
     "output_type": "display_data"
    }
   ],
   "source": [
    "# Create mesh\n",
    "height = 0.1\n",
    "length = 1.000\n",
    "\n",
    "P0 = Point(0., 0.)\n",
    "P1 = Point(length, height)\n",
    "domain = mshr.Rectangle(P0, P1)\n",
    "\n",
    "dens = 300\n",
    "mesh = mshr.generate_mesh(domain, dens)\n",
    "\n",
    "# Mark boundary subdomains\n",
    "class BoundaryLeft(SubDomain):\n",
    "    def inside(self, x, on_boundary):\n",
    "        return on_boundary and (near(x[0], 0.))\n",
    "    \n",
    "class BoundaryRight(SubDomain):\n",
    "    def inside(self, x, on_boundary):\n",
    "        return on_boundary and (near(x[0], length))\n",
    "\n",
    "# set boundary markers\n",
    "#boundary_markers = FacetFunction('size_t', mesh)\n",
    "left = BoundaryLeft()\n",
    "right = BoundaryRight()\n",
    "#left.mark(boundary_markers, 0)\n",
    "#right.mark(boundary_markers, 1)\n",
    "#ds = Measure('ds', domain=mesh, subdomain_data=boundary_markers)\n",
    "\n",
    "\n",
    "plt.figure()\n",
    "plot(mesh)\n",
    "plt.show()"
   ]
  },
  {
   "cell_type": "markdown",
   "metadata": {},
   "source": [
    "The material properties of steel are used in this example. Hooke's law is used for linear elasticity."
   ]
  },
  {
   "cell_type": "code",
   "execution_count": 3,
   "metadata": {
    "collapsed": true
   },
   "outputs": [],
   "source": [
    "# Mass density\n",
    "rho = 7.8e4\n",
    "\n",
    "# Elasticity parameters\n",
    "E, nu = 2.1e9, 0.3\n",
    "\n",
    "# Lamé constants \n",
    "mu    = Constant(E / (2.0*(1.0 + nu)))\n",
    "lmbda = Constant(E*nu / ((1.0 + nu)*(1.0 - 2.0*nu)))\n",
    "\n",
    "# Define strain and stress\n",
    "# Using the plane stress hypothesis\n",
    "def epsilon(u):\n",
    "    return sym(nabla_grad(u))\n",
    "\n",
    "def sigma(u):\n",
    "    return 2*mu*sym(grad(u)) + lmbda*tr(sym(grad(u)))*Identity(len(u))"
   ]
  },
  {
   "cell_type": "markdown",
   "metadata": {},
   "source": [
    "## Geometric stiffness ##\n",
    "\n",
    "The Geometric stiffness is derived by  by energy derivation:\n",
    "\n",
    "$$\n",
    "\\Pi(u) = \\int_{\\Omega_0} \\mathcal{W}(\\mathcal{F}) \\text{d}V_0 - \\Pi_{ext}(u) \\\\\n",
    "D_{v}\\Pi(u) = \\Pi'(u)(v) = \\int_{\\Omega_0} \\left< \\frac{\\text{d}\\mathcal{W}(\\mathcal{F})}{\\text{d}\\mathcal{F}}, \\nabla v \\right> \\text{d}V_0 - D_{v}\\Pi_{ext}(u) \\\\\n",
    "D_{\\Delta u}\\Pi'(u, v) = \\Pi''(u, v, \\hat{u}) = \\int_{\\Omega_0} \\nabla v \\frac{\\text{d}^2\\mathcal{W}(\\mathcal{F})^2 }{\\text{d}\\mathcal{F}^2} \\cdot \\nabla \\hat{u}  \\text{d}V_0 \\\\\n",
    "\\Pi''(u, v, \\hat{u}) = \\int_{\\Omega_0} \\nabla v \\mathcal{T} \\cdot \\nabla \\hat{u}  \\text{d}V_0 + \\int_{\\Omega_0} \\mathbb{C}_{\\mathcal{E}} \\left[\\mathtt{DE}(\\hat{u})\\right] \\cdot \\mathtt{DE}(v)  \\text{d}V_0\n",
    "$$\n",
    "\n",
    "We are looking at a linear elastic problem, so that Hooke's law becomes:\n",
    "$$\\sigma(u) = 2 \\mu \\epsilon(u) + \\lambda \\cdot \\mathrm{tr} (\\epsilon(u)) \\delta \\\\\n",
    "\\mathtt{DE}(u) = \\epsilon(u) =  sym \\nabla(u) $$\n",
    "With $\\lambda$ and $\\mu$ are Lamé constants.\n",
    "\n",
    "By linearizing the nonlinear stress tensors we can derive the geometric stiffness and tangential stiffness bilinear forms:\n",
    "$$\n",
    "a_{geom}(u, v) = P <\\nabla v_x, \\nabla u_x>  \\\\\n",
    "a_{el}(u, v) = <\\sigma(u), \\epsilon(v)> \n",
    "$$"
   ]
  },
  {
   "cell_type": "code",
   "execution_count": 4,
   "metadata": {
    "collapsed": false
   },
   "outputs": [],
   "source": [
    "# Create function space\n",
    "V = VectorFunctionSpace(mesh, \"Lagrange\", 1)\n",
    "\n",
    "# Create test and trial functions, and source term\n",
    "u = TrialFunction(V)\n",
    "v = TestFunction(V)\n",
    "\n",
    "# Applied force\n",
    "P_applied = -1.\n",
    "\n",
    "# Define boundary conditions\n",
    "bc = DirichletBC(V, Constant((0.0, 0.0)), left)\n",
    "\n",
    "# Define bilinear forms of the elastic tangent and geometric stiffness components\n",
    "a_el = inner(sigma(u), epsilon(v))*dx \n",
    "a_geom = P_applied*inner(grad(v[0]),grad(u[0]))*dx"
   ]
  },
  {
   "cell_type": "markdown",
   "metadata": {},
   "source": [
    "To assemble the matrices: we assemble the geometric stiffness and tangential stiffness matrices seperately and then add them up to the total stiffness matrix so that:\n",
    "\n",
    "$$\n",
    "\\mathbf{K} = \\mathbf{K}_{\\sigma} + \\mathbf{K}_0\n",
    "$$\n",
    "With\n",
    "+ $\\mathbf{K}_{\\sigma}$ is the geometric stiffness matrix\n",
    "+ $\\mathbf{K}_{0}$ is the elastic stiffness matrix"
   ]
  },
  {
   "cell_type": "code",
   "execution_count": 5,
   "metadata": {
    "collapsed": false
   },
   "outputs": [
    {
     "name": "stdout",
     "output_type": "stream",
     "text": [
      "True\n",
      "False\n"
     ]
    }
   ],
   "source": [
    "# Assemble matrices\n",
    "K_el = PETScMatrix()\n",
    "K_geom = PETScMatrix()\n",
    "M_mat = PETScMatrix()\n",
    "F_vec = PETScVector()\n",
    "\n",
    "Le = dot(Constant((1., 1.)), v)*ds # Dummy linear variational form\n",
    "\n",
    "assemble_system(a_el, Le, bc, A_tensor=K_el, b_tensor=F_vec)\n",
    "assemble_system(a_geom, Le, bc, A_tensor=K_geom, b_tensor=F_vec)\n",
    "assemble_system(rho*dot(u,v)*dx, Le, bc, A_tensor=M_mat, b_tensor=F_vec)\n",
    "\n",
    "# Define total stiffness matrix\n",
    "K_total = PETScMatrix(K_el.mat() + K_geom.mat())\n",
    "\n",
    "# So now we have a symmetric stiffness matrix, check how symmetric it is:\n",
    "print(K_total.is_symmetric(1e-5))\n",
    "print(K_total.is_symmetric(1e-6))"
   ]
  },
  {
   "cell_type": "markdown",
   "metadata": {},
   "source": [
    "Functions to compute the modes that are used to reduce the domain of the matrices to take the interior domain, thus excluding Dirichlet boundary conditions. Furthermore there is a function to project vectors from the reduced domain back to the full domain."
   ]
  },
  {
   "cell_type": "markdown",
   "metadata": {},
   "source": [
    "Extract modes from the reduced domain by solving the generalized eigenvalue problem. "
   ]
  },
  {
   "cell_type": "code",
   "execution_count": 6,
   "metadata": {
    "collapsed": false
   },
   "outputs": [
    {
     "name": "stdout",
     "output_type": "stream",
     "text": [
      "('Theoretical buckling load: ', 431795.1925476595)\n",
      "('Critical pressure', 4317951.925476595)\n"
     ]
    }
   ],
   "source": [
    "# x = SpatialCoordinate(V)\n",
    "Inertia = length*height**3 / 12.  # assemble(x[1]*(x[1] - height/2)*dx)\n",
    "\n",
    "I = Inertia\n",
    "K = 2.        # One side clamped the other side free\n",
    "L = 1.\n",
    "\n",
    "F_crit =  (np.pi**2)*E*I / ((K*L)**2)\n",
    "F_crit2 =  (np.pi**2)*E*height / (3.*(K)**2)\n",
    "print(\"Theoretical buckling load: \", F_crit)\n",
    "P_crit = F_crit/height\n",
    "print(\"Critical pressure\", P_crit)"
   ]
  },
  {
   "cell_type": "code",
   "execution_count": 7,
   "metadata": {
    "collapsed": true
   },
   "outputs": [],
   "source": [
    "def setup_problem(dens):\n",
    "    mesh = mshr.generate_mesh(domain, dens)\n",
    "\n",
    "    # Create function space\n",
    "    V = VectorFunctionSpace(mesh, \"Lagrange\", 1)\n",
    "\n",
    "    # Create test and trial functions, and source term\n",
    "    u = TrialFunction(V)\n",
    "    v = TestFunction(V)\n",
    "    \n",
    "    # Define boundary conditions\n",
    "    bc = DirichletBC(V, Constant((0.0, 0.0)), left)\n",
    "    \n",
    "    # Applied force\n",
    "    P_applied = -1.\n",
    "\n",
    "    # Define bilinear forms of the elastic tangent and geometric stiffness components\n",
    "    a_el = inner(sigma(u), epsilon(v))*dx \n",
    "    a_geom = P_applied*inner(grad(v[0]),grad(u[0]))*dx\n",
    "    \n",
    "    # Assemble matrices\n",
    "    K_el = PETScMatrix()\n",
    "    K_geom = PETScMatrix()\n",
    "    M_mat = PETScMatrix()\n",
    "    F_vec = PETScVector()\n",
    "\n",
    "    Le = dot(Constant((0., 0.)), v)*dx # Dummy linear variational form\n",
    "\n",
    "    assemble_system(a_el, Le, bc, A_tensor=K_el, b_tensor=F_vec)\n",
    "    assemble_system(a_geom, Le, bc, A_tensor=K_geom, b_tensor=F_vec)\n",
    "    assemble_system(rho*dot(u,v)*dx, Le, bc, A_tensor=M_mat, b_tensor=F_vec)\n",
    "    return M_mat, K_el, K_geom, bc, V"
   ]
  },
  {
   "cell_type": "code",
   "execution_count": 8,
   "metadata": {
    "collapsed": false
   },
   "outputs": [
    {
     "name": "stdout",
     "output_type": "stream",
     "text": [
      "dens =  50\n",
      "dens =  75\n",
      "dens =  100\n"
     ]
    }
   ],
   "source": [
    "# A number of eigenvalues are calculated for each load and mesh density\n",
    "neigs = 3\n",
    "P_list = np.linspace(0., 1.2*P_crit, 50)\n",
    "D_list = np.linspace(50,100, 3, dtype=int)\n",
    "\n",
    "evlist = np.zeros((len(D_list), len(P_list), neigs), dtype='complex')\n",
    "modelist = []\n",
    "\n",
    "for d_idx in range(len(D_list)):\n",
    "    print \"dens = \", D_list[d_idx]\n",
    "    M_mat, K_el, K_geom, bc, V = setup_problem(D_list[d_idx])\n",
    "    for p_idx in range(len(P_list)):\n",
    "        K_total = PETScMatrix(K_el.mat() + (P_list[p_idx]+DOLFIN_EPS_LARGE) * K_geom.mat())\n",
    "        modes, evs = extract_modes(K_total, M_mat, V, bc, neigs)\n",
    "        evlist[d_idx, p_idx] = evs[:neigs]\n",
    "modelist.append(modes)"
   ]
  },
  {
   "cell_type": "code",
   "execution_count": 9,
   "metadata": {
    "collapsed": false
   },
   "outputs": [
    {
     "data": {
      "image/png": "[encoded data removed]",
      "text/plain": [
       "<matplotlib.figure.Figure at 0x7f97a9b6b810>"
      ]
     },
     "metadata": {},
     "output_type": "display_data"
    }
   ],
   "source": [
    "plt.figure()\n",
    "plt.axhline(0., color='k', lw = 0.5)\n",
    "for d_idx in range(len(D_list)):\n",
    "    plt.plot(P_list, evlist[d_idx, :, :1].real, 'o', ms=2)\n",
    "plt.axvline(P_crit/(1-.3**2), linewidth=0.5, color='r')\n",
    "plt.ylabel\n",
    "plt.show()"
   ]
  },
  {
   "cell_type": "code",
   "execution_count": 10,
   "metadata": {
    "collapsed": false,
    "scrolled": false
   },
   "outputs": [
    {
     "name": "stderr",
     "output_type": "stream",
     "text": [
      "/usr/lib/python2.7/dist-packages/numpy/core/numeric.py:482: ComplexWarning: Casting complex values to real discards the imaginary part\n",
      "  return array(a, dtype, copy=False, order=order)\n"
     ]
    },
    {
     "data": {
      "image/png": "[encoded data removed]",
      "text/plain": [
       "<matplotlib.figure.Figure at 0x7f97a9bda350>"
      ]
     },
     "metadata": {},
     "output_type": "display_data"
    },
    {
     "data": {
      "image/png": "[encoded data removed]",
      "text/plain": [
       "<matplotlib.figure.Figure at 0x7f97a9c5c690>"
      ]
     },
     "metadata": {},
     "output_type": "display_data"
    },
    {
     "data": {
      "image/png": "[encoded data removed]",
      "text/plain": [
       "<matplotlib.figure.Figure at 0x7f97a68656d0>"
      ]
     },
     "metadata": {},
     "output_type": "display_data"
    }
   ],
   "source": [
    "# Since force = pressure * surface\n",
    "F_list = P_list*height\n",
    "\n",
    "plt.figure()\n",
    "plot(modelist[0][0], mode='displacement')\n",
    "\n",
    "plt.figure()\n",
    "plt.title(\"Mode 1\")\n",
    "plt.axhline(0., color='k', lw = 0.5)\n",
    "for d_idx in range(len(D_list)):\n",
    "    plt.plot(F_list, evlist[d_idx, :, 0]**0.5.real, 'o', ms=4., label=\"density {}\".format(str(D_list[d_idx])))\n",
    "plt.axvline(F_crit/(1-.3**2), lw=0.5)\n",
    "plt.legend(loc=\"best\")\n",
    "plt.show()\n",
    "\n",
    "plt.figure()\n",
    "plt.title(\"Mode 1\")\n",
    "plt.axhline(0., color='k', lw = 0.5)\n",
    "#plt.plot(F_list, evlist[:, 0]**0.5.real, 'o', ms=4., label=\"Frequency\")\n",
    "for d_idx in range(len(D_list)):\n",
    "    plt.plot(F_list, (-evlist[d_idx, :, 0])**0.5.real, 'o', ms=4., label=\"density {}\".format(str(D_list[d_idx])))\n",
    "plt.axvline(F_crit/(1-.3**2), lw=0.5)\n",
    "plt.show()\n",
    "\n",
    "#plt.figure()\n",
    "#plot(modelist[-1][0], mode='displacement')"
   ]
  },
  {
   "cell_type": "markdown",
   "metadata": {},
   "source": [
    "# Construct Jacobian matrix\n",
    "\n",
    "$$\n",
    "\\mathbf{M}\\dot{y} + \\mathbf{K}x = \\mathbf{F} \\\\\n",
    "\\mathbf{A}\\dot{x} - \\mathbf{A}y = 0\n",
    "$$\n",
    "Where $\\mathbf{A}$ can be chosen freely.\n",
    "\n",
    "Rewriting in matrix form:\n",
    "$$\n",
    "\\begin{bmatrix}\n",
    "0 & \\mathbf{I} \\\\\n",
    "\\mathbf{A} & 0\n",
    "\\end{bmatrix}  \\begin{pmatrix} \\dot{x} \\\\\n",
    "\\dot{y}  \\end{pmatrix} = \\begin{bmatrix} -\\mathbf{M}^{-1}\\mathbf{K} & \\mathbf{0} \\\\\n",
    "\\mathbf{0} & \\mathbf{A}\n",
    "\\end{bmatrix} \n",
    "\\begin{pmatrix} x \\\\ y \\end{pmatrix}\n",
    "+ \\begin{pmatrix} \\mathbf{M}^{-1}\\mathbf{F} \\\\\n",
    "\\mathbf{0} \\end{pmatrix}\n",
    "$$\n",
    "\n",
    "\n",
    "$$\n",
    "\\mathbf{J} = \\begin{bmatrix}\n",
    "-\\mathbf{M}^{-1}\\mathbf{K} & \\mathbf{0}   \\\\\n",
    "\\mathbf{0} & \\mathbf{A}\n",
    "\\end{bmatrix}\n",
    "$$"
   ]
  },
  {
   "cell_type": "markdown",
   "metadata": {},
   "source": [
    "Or to avoid the inversion of $\\mathbf{M}$, we keep $\\mathbf{M}$ on the left hand side and we choose $\\mathbf{A}=\\mathbf{M}$ to make the left hand side symmetric:\n",
    "$$\n",
    "\\begin{bmatrix}\\mathbf{0} & \\mathbf{M} \\\\\n",
    "\\mathbf{M} & \\mathbf{0}\n",
    "\\end{bmatrix}\n",
    "\\begin{pmatrix} \\dot{y} \\\\\n",
    "\\dot{x} \\end{pmatrix} = \\begin{bmatrix} -\\mathbf{K} & \\mathbf{0} \\\\\n",
    "\\mathbf{0} & \\mathbf{M} \n",
    "\\end{bmatrix} \n",
    "\\begin{pmatrix} y \\\\ x \\end{pmatrix}\n",
    "+ \\begin{pmatrix} \\mathbf{F} \\\\\n",
    "\\mathbf{0} \\end{pmatrix}\n",
    "$$"
   ]
  },
  {
   "cell_type": "code",
   "execution_count": 22,
   "metadata": {
    "collapsed": false
   },
   "outputs": [],
   "source": [
    "# Find indices of internal domain\n",
    "index_set_not_bc = get_interior_index_set(bc, V)\n",
    "\n",
    "# Reduce matrices\n",
    "K_geom_reduced = reduce_matrix(K_geom, index_set_not_bc)\n",
    "K_el_reduced = reduce_matrix(K_el, index_set_not_bc)\n",
    "M_mat_reduced = reduce_matrix(M_mat, index_set_not_bc)\n",
    "\n",
    "# Get petsc matrices for stiffness and mass\n",
    "Kg = K_geom_reduced.mat()\n",
    "K0 = K_el_reduced.mat()\n",
    "M0 = M_mat_reduced.mat()\n",
    "\n",
    "# Set empty matrix\n",
    "null = PETSc.Mat()"
   ]
  },
  {
   "cell_type": "markdown",
   "metadata": {},
   "source": [
    "## Testing the SLEPc4py eigenvalue solver:"
   ]
  },
  {
   "cell_type": "code",
   "execution_count": 41,
   "metadata": {
    "collapsed": true
   },
   "outputs": [],
   "source": [
    "del solver"
   ]
  },
  {
   "cell_type": "code",
   "execution_count": 42,
   "metadata": {
    "collapsed": false
   },
   "outputs": [
    {
     "name": "stdout",
     "output_type": "stream",
     "text": [
      "System size: 5204\n",
      "Number of iterations of the method: 20816\n",
      "Number of converged eigenpairs: 0\n"
     ]
    }
   ],
   "source": [
    "# WIP: formulate eigensolver using slepc directly based on: https://github.com/MiroK/cbc.block-eig/blob/master/stokes.py\n",
    "\n",
    "# set number of eigenvalues to 10\n",
    "neigs = 20\n",
    "\n",
    "# Setup the eigensolver\n",
    "solver = SLEPc.EPS().create()\n",
    "solver.setOperators(Jac_1, Jac_2)\n",
    "solver.setType(solver.Type.GD)\n",
    "# solver.setType(solver.Type.KRYLOVSCHUR)\n",
    "# solver.st_type(sinvert) # TODO\n",
    "solver.setDimensions(neigs, PETSc.DECIDE)\n",
    "solver.setWhichEigenpairs(solver.Which.SMALLEST_REAL)\n",
    "#solver.setProblemType(SLEPc.EPS.ProblemType.GNHEP)\n",
    "solver.setFromOptions()\n",
    "\n",
    "# Solve the eigensystem\n",
    "solver.solve()\n",
    "\n",
    "print('System size: %i' % K0.size[0])\n",
    "its = solver.getIterationNumber()\n",
    "print('Number of iterations of the method: %i' % its)\n",
    "nconv = solver.getConverged()\n",
    "print('Number of converged eigenpairs: %d' % nconv)\n",
    "if nconv > 0:\n",
    "    print(np.array([solver.getEigenvalue(i).real for i in range(nconv)]))"
   ]
  },
  {
   "cell_type": "code",
   "execution_count": 43,
   "metadata": {
    "collapsed": false
   },
   "outputs": [
    {
     "name": "stdout",
     "output_type": "stream",
     "text": [
      "System size: 5204\n",
      "Number of iterations of the method: 20816\n",
      "Number of converged eigenpairs: 0\n"
     ]
    }
   ],
   "source": [
    "# WIP: formulate eigensolver using slepc directly based on: https://github.com/MiroK/cbc.block-eig/blob/master/stokes.py\n",
    "\n",
    "# set number of eigenvalues to 10\n",
    "neigs = 20\n",
    "\n",
    "# Setup the eigensolver\n",
    "solver = SLEPc.EPS().create()\n",
    "solver.setOperators(Jac_1, Jac_2)\n",
    "# solver.setType(solver.Type.GD)\n",
    "solver.setType(solver.Type.KRYLOVSCHUR)\n",
    "# solver.st_type(sinvert) # TODO\n",
    "solver.setDimensions(neigs, PETSc.DECIDE)\n",
    "solver.setWhichEigenpairs(solver.Which.SMALLEST_REAL)\n",
    "solver.setProblemType(SLEPc.EPS.ProblemType.GNHEP)\n",
    "solver.setFromOptions()\n",
    "\n",
    "# Solve the eigensystem\n",
    "solver.solve()\n",
    "\n",
    "print('System size: %i' % K0.size[0])\n",
    "its = solver.getIterationNumber()\n",
    "print('Number of iterations of the method: %i' % its)\n",
    "nconv = solver.getConverged()\n",
    "print('Number of converged eigenpairs: %d' % nconv)\n",
    "if nconv > 0:\n",
    "    print(np.array([solver.getEigenvalue(i).real for i in range(nconv)]))"
   ]
  },
  {
   "cell_type": "code",
   "execution_count": 37,
   "metadata": {
    "collapsed": false
   },
   "outputs": [
    {
     "name": "stdout",
     "output_type": "stream",
     "text": [
      "Help on built-in function setProblemType:\n",
      "\n",
      "setProblemType(...)\n",
      "    EPS.setProblemType(self, problem_type)\n",
      "    \n",
      "    Specifies the type of the eigenvalue problem.\n",
      "    \n",
      "    Parameters\n",
      "    ----------\n",
      "    problem_type: `EPS.ProblemType` enumerate\n",
      "           The problem type to be set.\n",
      "    \n",
      "    Notes\n",
      "    -----\n",
      "    Allowed values are: Hermitian (HEP), non-Hermitian (NHEP),\n",
      "    generalized Hermitian (GHEP), generalized non-Hermitian\n",
      "    (GNHEP), and generalized non-Hermitian with positive\n",
      "    semi-definite B (PGNHEP).\n",
      "    \n",
      "    This function must be used to instruct SLEPc to exploit\n",
      "    symmetry. If no problem type is specified, by default a\n",
      "    non-Hermitian problem is assumed (either standard or\n",
      "    generalized). If the user knows that the problem is Hermitian\n",
      "    (i.e. ``A=A^H``) or generalized Hermitian (i.e. ``A=A^H``,\n",
      "    ``B=B^H``, and ``B`` positive definite) then it is recommended\n",
      "    to set the problem type so that eigensolver can exploit these\n",
      "    properties.\n",
      "\n"
     ]
    }
   ],
   "source": [
    "help(solver.setProblemType)"
   ]
  },
  {
   "cell_type": "markdown",
   "metadata": {
    "collapsed": false
   },
   "source": [
    "### Try all solver types: ###"
   ]
  },
  {
   "cell_type": "markdown",
   "metadata": {},
   "source": [
    "First try all solvers on the classic eigenvalue problem $\\mathbf{K}\\phi = \\lambda \\mathbf{M} \\phi $:"
   ]
  },
  {
   "cell_type": "code",
   "execution_count": 13,
   "metadata": {
    "collapsed": false
   },
   "outputs": [
    {
     "name": "stdout",
     "output_type": "stream",
     "text": [
      "POWER\n",
      "('solver.Type.POWER', ' does not work')\n",
      "('time elapsed using ', 'solver.Type.POWER', ':   ', 0.0025720596313476562)\n",
      "SUBSPACE\n",
      "('solver.Type.SUBSPACE', ' does not work')\n",
      "('time elapsed using ', 'solver.Type.SUBSPACE', ':   ', 0.0006799697875976562)\n",
      "ARNOLDI\n",
      "('time elapsed using ', 'solver.Type.ARNOLDI', ':   ', 9.948814868927002)\n",
      "System size: 5204\n",
      "Number of iterations of the method: 416\n",
      "Number of converged eigenpairs: 0\n",
      "LANCZOS\n",
      "('time elapsed using ', 'solver.Type.LANCZOS', ':   ', 12.396744012832642)\n",
      "System size: 5204\n",
      "Number of iterations of the method: 416\n",
      "Number of converged eigenpairs: 1\n",
      "KRYLOVSCHUR\n",
      "('time elapsed using ', 'solver.Type.KRYLOVSCHUR', ':   ', 5.307085037231445)\n",
      "System size: 5204\n",
      "Number of iterations of the method: 416\n",
      "Number of converged eigenpairs: 0\n",
      "GD\n",
      "('solver.Type.GD', ' does not work')\n",
      "('time elapsed using ', 'solver.Type.GD', ':   ', 0.01935887336730957)\n",
      "JD\n",
      "('solver.Type.JD', ' does not work')\n",
      "('time elapsed using ', 'solver.Type.JD', ':   ', 0.018687963485717773)\n",
      "RQCG\n",
      "('time elapsed using ', 'solver.Type.RQCG', ':   ', 1.3563289642333984)\n",
      "System size: 5204\n",
      "Number of iterations of the method: 47\n",
      "Number of converged eigenpairs: 11\n",
      "LOBPCG\n",
      "('solver.Type.LOBPCG', ' does not work')\n",
      "('time elapsed using ', 'solver.Type.LOBPCG', ':   ', 0.05422186851501465)\n",
      "CISS\n",
      "('solver.Type.CISS', ' does not work')\n",
      "('time elapsed using ', 'solver.Type.CISS', ':   ', 0.0005590915679931641)\n",
      "LAPACK\n",
      "('time elapsed using ', 'solver.Type.LAPACK', ':   ', 62.416642904281616)\n",
      "System size: 5204\n",
      "Number of iterations of the method: 1\n",
      "Number of converged eigenpairs: 5204\n"
     ]
    }
   ],
   "source": [
    "import time\n",
    "stypes = ['POWER', 'SUBSPACE', 'ARNOLDI', 'LANCZOS', 'KRYLOVSCHUR',\n",
    "          'GD', 'JD', 'RQCG', 'LOBPCG', 'CISS', 'LAPACK']\n",
    "\n",
    "# set number of eigenvalues to 10\n",
    "neigs = 10\n",
    "\n",
    "for slvr in stypes:\n",
    "    t0 = time.time()\n",
    "    slvr_str = \"\".join([\"solver.Type.\", slvr])\n",
    "    print(slvr)\n",
    "\n",
    "    # Setup the eigensolver\n",
    "    solver = SLEPc.EPS().create()\n",
    "    solver.setOperators(K0, M0)\n",
    "    solver.setDimensions(neigs, PETSc.DECIDE)\n",
    "    solver.setWhichEigenpairs(solver.Which.SMALLEST_REAL)\n",
    "    solver.setProblemType(SLEPc.EPS.ProblemType.GHEP)\n",
    "    solver.setFromOptions()\n",
    "    \n",
    "    # Set solver type\n",
    "    solver.setType(eval(slvr_str))\n",
    "    # Solve the eigensystem\n",
    "    try: \n",
    "        solver.solve()\n",
    "        st = time.time() - t0\n",
    "        print(\"time elapsed using \", slvr_str, \":   \", st)\n",
    "        print('System size: %i' % K0.size[0])\n",
    "        its = solver.getIterationNumber()\n",
    "        print('Number of iterations of the method: %i' % its)\n",
    "        nconv = solver.getConverged()\n",
    "        print('Number of converged eigenpairs: %d' % nconv)\n",
    "    except:\n",
    "        print(slvr_str, \" does not work\")\n",
    "        st = time.time() - t0\n",
    "        print(\"time elapsed using \", slvr_str, \":   \", st)"
   ]
  },
  {
   "cell_type": "markdown",
   "metadata": {},
   "source": [
    "Now construct the left hand side and right hand side of the Jacobian:"
   ]
  },
  {
   "cell_type": "code",
   "execution_count": 31,
   "metadata": {
    "collapsed": false
   },
   "outputs": [
    {
     "data": {
      "text/plain": [
       "<petsc4py.PETSc.Mat at 0x7f97a681bc50>"
      ]
     },
     "execution_count": 31,
     "metadata": {},
     "output_type": "execute_result"
    }
   ],
   "source": [
    "Jac_1."
   ]
  },
  {
   "cell_type": "code",
   "execution_count": 32,
   "metadata": {
    "collapsed": false
   },
   "outputs": [
    {
     "name": "stdout",
     "output_type": "stream",
     "text": [
      "1\n"
     ]
    }
   ],
   "source": [
    "print(K0.isSymmetric(1e-6))"
   ]
  },
  {
   "cell_type": "code",
   "execution_count": 14,
   "metadata": {
    "collapsed": false
   },
   "outputs": [
    {
     "name": "stdout",
     "output_type": "stream",
     "text": [
      "POWER\n",
      "('solver.Type.POWER', ' does not work')\n",
      "('time elapsed using ', 'solver.Type.POWER', ':   ', 0.22682905197143555)\n",
      "SUBSPACE\n",
      "('solver.Type.SUBSPACE', ' does not work')\n",
      "('time elapsed using ', 'solver.Type.SUBSPACE', ':   ', 0.002086162567138672)\n",
      "ARNOLDI\n",
      "('solver.Type.ARNOLDI', ' does not work')\n",
      "('time elapsed using ', 'solver.Type.ARNOLDI', ':   ', 0.002153158187866211)\n",
      "LANCZOS\n",
      "('solver.Type.LANCZOS', ' does not work')\n",
      "('time elapsed using ', 'solver.Type.LANCZOS', ':   ', 0.0020689964294433594)\n",
      "KRYLOVSCHUR\n",
      "('solver.Type.KRYLOVSCHUR', ' does not work')\n",
      "('time elapsed using ', 'solver.Type.KRYLOVSCHUR', ':   ', 0.0010380744934082031)\n",
      "GD\n",
      "('solver.Type.GD', ' does not work')\n",
      "('time elapsed using ', 'solver.Type.GD', ':   ', 0.0004558563232421875)\n",
      "JD\n",
      "('solver.Type.JD', ' does not work')\n",
      "('time elapsed using ', 'solver.Type.JD', ':   ', 0.0019478797912597656)\n",
      "RQCG\n",
      "('solver.Type.RQCG', ' does not work')\n",
      "('time elapsed using ', 'solver.Type.RQCG', ':   ', 0.004730939865112305)\n",
      "LOBPCG\n",
      "('solver.Type.LOBPCG', ' does not work')\n",
      "('time elapsed using ', 'solver.Type.LOBPCG', ':   ', 0.0046918392181396484)\n",
      "CISS\n",
      "('solver.Type.CISS', ' does not work')\n",
      "('time elapsed using ', 'solver.Type.CISS', ':   ', 0.001661062240600586)\n",
      "LAPACK\n",
      "('solver.Type.LAPACK', ' does not work')\n",
      "('time elapsed using ', 'solver.Type.LAPACK', ':   ', 15.270445108413696)\n"
     ]
    }
   ],
   "source": [
    "comm = mpi_comm_world()\n",
    "Jac_1 = PETSc.Mat().createNest([[-K0, null], \n",
    "                                [null, M0]], comm=comm)\n",
    "Jac_2 = PETSc.Mat().createNest([[null, M0], \n",
    "                                [M0, null]], comm=comm)\n",
    "\n",
    "# set number of eigenvalues to 10\n",
    "neigs = 10\n",
    "\n",
    "for slvr in stypes:\n",
    "    t0 = time.time()\n",
    "    slvr_str = \"\".join([\"solver.Type.\", slvr])\n",
    "    print(slvr)\n",
    "\n",
    "    # Setup the eigensolver\n",
    "    solver = SLEPc.EPS().create()\n",
    "    solver.setOperators(Jac_1, Jac_2)\n",
    "    solver.setDimensions(neigs, PETSc.DECIDE)\n",
    "    solver.setWhichEigenpairs(solver.Which.SMALLEST_REAL)\n",
    "    solver.setProblemType(SLEPc.EPS.ProblemType.GHEP)\n",
    "    solver.setFromOptions()\n",
    "    \n",
    "    # Set solver type\n",
    "    solver.setType(eval(slvr_str))\n",
    "    # Solve the eigensystem\n",
    "    try: \n",
    "        solver.solve()\n",
    "        st = time.time() - t0\n",
    "        print(\"time elapsed using \", slvr_str, \":   \", st)\n",
    "        print('System size: %i' % K0.size[0])\n",
    "        its = solver.getIterationNumber()\n",
    "        print('Number of iterations of the method: %i' % its)\n",
    "        nconv = solver.getConverged()\n",
    "        print('Number of converged eigenpairs: %d' % nconv)\n",
    "    except:\n",
    "        print(slvr_str, \" does not work\")\n",
    "        st = time.time() - t0\n",
    "        print(\"time elapsed using \", slvr_str, \":   \", st)"
   ]
  },
  {
   "cell_type": "code",
   "execution_count": null,
   "metadata": {
    "collapsed": true
   },
   "outputs": [],
   "source": []
  }
 ],
 "metadata": {
  "kernelspec": {
   "display_name": "Python 2",
   "language": "python",
   "name": "python2"
  },
  "language_info": {
   "codemirror_mode": {
    "name": "ipython",
    "version": 2
   },
   "file_extension": ".py",
   "mimetype": "text/x-python",
   "name": "python",
   "nbconvert_exporter": "python",
   "pygments_lexer": "ipython2",
   "version": "2.7.12"
  }
 },
 "nbformat": 4,
 "nbformat_minor": 2
}
