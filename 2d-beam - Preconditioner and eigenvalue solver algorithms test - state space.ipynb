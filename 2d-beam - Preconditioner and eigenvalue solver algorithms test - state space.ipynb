{
 "cells": [
  {
   "cell_type": "markdown",
   "metadata": {},
   "source": [
    "# Modal analysis of a 2D-beam"
   ]
  },
  {
   "cell_type": "markdown",
   "metadata": {},
   "source": [
    "Notebook to introduce Modal analysis in FEniCS.\n",
    "\n",
    "What will be shown here is a 2D-beam clamped on the left hand side. "
   ]
  },
  {
   "cell_type": "code",
   "execution_count": 1,
   "metadata": {
    "collapsed": true
   },
   "outputs": [],
   "source": [
    "from petsc4py import PETSc\n",
    "from slepc4py import SLEPc\n",
    "from dolfin import *\n",
    "% matplotlib inline\n",
    "import mshr\n",
    "from MA_tools import get_interior_index_set, reduce_matrix, extract_modes\n",
    "import numpy as np\n",
    "import matplotlib as mpl\n",
    "import matplotlib.pyplot as plt"
   ]
  },
  {
   "cell_type": "markdown",
   "metadata": {},
   "source": [
    "The beam is modeled by a rectangular domain that is meshed using <code>mshr</code>. The left hand side and right hand side of the domain are defined to apply the clamped boundary condition and loading."
   ]
  },
  {
   "cell_type": "code",
   "execution_count": 3,
   "metadata": {
    "collapsed": false
   },
   "outputs": [
    {
     "data": {
      "image/png": "[encoded data removed]",
      "text/plain": [
       "<matplotlib.figure.Figure at 0x7fc46842fc90>"
      ]
     },
     "metadata": {},
     "output_type": "display_data"
    }
   ],
   "source": [
    "# Create mesh\n",
    "height = 0.1\n",
    "length = 1.000\n",
    "\n",
    "P0 = Point(0., 0.)\n",
    "P1 = Point(length, height)\n",
    "domain = mshr.Rectangle(P0, P1)\n",
    "\n",
    "dens = 300\n",
    "mesh = mshr.generate_mesh(domain, dens)\n",
    "\n",
    "# Mark boundary subdomains\n",
    "class BoundaryLeft(SubDomain):\n",
    "    def inside(self, x, on_boundary):\n",
    "        return on_boundary and (near(x[0], 0.))\n",
    "    \n",
    "class BoundaryRight(SubDomain):\n",
    "    def inside(self, x, on_boundary):\n",
    "        return on_boundary and (near(x[0], length))\n",
    "\n",
    "# set boundary markers\n",
    "#boundary_markers = FacetFunction('size_t', mesh)\n",
    "left = BoundaryLeft()\n",
    "right = BoundaryRight()\n",
    "#left.mark(boundary_markers, 0)\n",
    "#right.mark(boundary_markers, 1)\n",
    "#ds = Measure('ds', domain=mesh, subdomain_data=boundary_markers)\n",
    "\n",
    "\n",
    "plt.figure()\n",
    "plot(mesh)\n",
    "plt.show()"
   ]
  },
  {
   "cell_type": "markdown",
   "metadata": {},
   "source": [
    "The material properties of steel are used in this example. Hooke's law is used for linear elasticity and plane stress."
   ]
  },
  {
   "cell_type": "code",
   "execution_count": 4,
   "metadata": {
    "collapsed": true
   },
   "outputs": [],
   "source": [
    "# Mass density\n",
    "rho = 7.8e4\n",
    "\n",
    "# Elasticity parameters\n",
    "E, nu = 2.1e9, 0.3\n",
    "\n",
    "# Lamé constants \n",
    "mu    = Constant(E / (2.0*(1.0 + nu)))\n",
    "lmbda = Constant(E*nu / ((1.0 + nu)*(1.0 - 2.0*nu)))\n",
    "\n",
    "# Define strain and stress\n",
    "# Using the plane stress hypothesis\n",
    "def epsilon(u):\n",
    "    return sym(nabla_grad(u))\n",
    "\n",
    "def sigma(u):\n",
    "    return 2*mu*sym(grad(u)) + lmbda*tr(sym(grad(u)))*Identity(len(u))"
   ]
  },
  {
   "cell_type": "markdown",
   "metadata": {},
   "source": [
    "# Define problem \n",
    "Using the following function the mass, elastic and geometric stiffness matrices are computed along with the boundary conditions defined and the function space"
   ]
  },
  {
   "cell_type": "code",
   "execution_count": 5,
   "metadata": {
    "collapsed": true
   },
   "outputs": [],
   "source": [
    "def setup_problem(dens):\n",
    "    mesh = mshr.generate_mesh(domain, dens)\n",
    "\n",
    "    # Create function space\n",
    "    V = VectorFunctionSpace(mesh, \"Lagrange\", 1)\n",
    "\n",
    "    # Create test and trial functions, and source term\n",
    "    u = TrialFunction(V)\n",
    "    v = TestFunction(V)\n",
    "    \n",
    "    # Define boundary conditions\n",
    "    bc = DirichletBC(V, Constant((0.0, 0.0)), left)\n",
    "    \n",
    "    # Applied force\n",
    "    P_applied = -1.\n",
    "\n",
    "    # Define bilinear forms of the elastic tangent and geometric stiffness components\n",
    "    a_el = inner(sigma(u), epsilon(v))*dx \n",
    "    a_geom = P_applied*inner(grad(v[0]),grad(u[0]))*dx\n",
    "    \n",
    "    # Assemble matrices\n",
    "    K_el = PETScMatrix()\n",
    "    K_geom = PETScMatrix()\n",
    "    M_mat = PETScMatrix()\n",
    "    F_vec = PETScVector()\n",
    "\n",
    "    Le = dot(Constant((0., 0.)), v)*dx # Dummy linear variational form\n",
    "\n",
    "    assemble_system(a_el, Le, bc, A_tensor=K_el, b_tensor=F_vec)\n",
    "    assemble_system(a_geom, Le, bc, A_tensor=K_geom, b_tensor=F_vec)\n",
    "    assemble_system(rho*dot(u,v)*dx, Le, bc, A_tensor=M_mat, b_tensor=F_vec)\n",
    "    return M_mat, K_el, K_geom, bc, V"
   ]
  },
  {
   "cell_type": "code",
   "execution_count": 6,
   "metadata": {
    "collapsed": false
   },
   "outputs": [],
   "source": [
    "# Set up problem\n",
    "mesh_density = 25\n",
    "M_mat, K_el, K_geom, bc, V = setup_problem(mesh_density)"
   ]
  },
  {
   "cell_type": "markdown",
   "metadata": {},
   "source": [
    "# Construct Jacobian matrix\n",
    "\n",
    "$$\n",
    "\\mathbf{M}\\dot{y} + \\mathbf{K}x = \\mathbf{F} \\\\\n",
    "\\mathbf{A}\\dot{x} - \\mathbf{A}y = 0\n",
    "$$\n",
    "Where $\\mathbf{A}$ can be chosen freely.\n",
    "\n",
    "Rewriting in matrix form:\n",
    "$$\n",
    "\\begin{bmatrix}\n",
    "0 & \\mathbf{I} \\\\\n",
    "\\mathbf{A} & 0\n",
    "\\end{bmatrix}  \\begin{pmatrix} \\dot{x} \\\\\n",
    "\\dot{y}  \\end{pmatrix} = \\begin{bmatrix} -\\mathbf{M}^{-1}\\mathbf{K} & \\mathbf{0} \\\\\n",
    "\\mathbf{0} & \\mathbf{A}\n",
    "\\end{bmatrix} \n",
    "\\begin{pmatrix} x \\\\ y \\end{pmatrix}\n",
    "+ \\begin{pmatrix} \\mathbf{M}^{-1}\\mathbf{F} \\\\\n",
    "\\mathbf{0} \\end{pmatrix}\n",
    "$$\n",
    "\n",
    "\n",
    "$$\n",
    "\\mathbf{J} = \\begin{bmatrix}\n",
    "-\\mathbf{M}^{-1}\\mathbf{K} & \\mathbf{0}   \\\\\n",
    "\\mathbf{0} & \\mathbf{A}\n",
    "\\end{bmatrix}\n",
    "$$"
   ]
  },
  {
   "cell_type": "markdown",
   "metadata": {},
   "source": [
    "Or to avoid the inversion of $\\mathbf{M}$, we keep $\\mathbf{M}$ on the left hand side and we choose $\\mathbf{A}=\\mathbf{M}$ to make the left hand side symmetric:\n",
    "$$\n",
    "\\begin{bmatrix}\\mathbf{0} & \\mathbf{M} \\\\\n",
    "\\mathbf{M} & \\mathbf{0}\n",
    "\\end{bmatrix}\n",
    "\\begin{pmatrix} \\dot{y} \\\\\n",
    "\\dot{x} \\end{pmatrix} = \\begin{bmatrix} -\\mathbf{K} & \\mathbf{0} \\\\\n",
    "\\mathbf{0} & \\mathbf{M} \n",
    "\\end{bmatrix} \n",
    "\\begin{pmatrix} y \\\\ x \\end{pmatrix}\n",
    "+ \\begin{pmatrix} \\mathbf{F} \\\\\n",
    "\\mathbf{0} \\end{pmatrix}\n",
    "$$"
   ]
  },
  {
   "cell_type": "code",
   "execution_count": 7,
   "metadata": {
    "collapsed": false
   },
   "outputs": [],
   "source": [
    "# Find indices of internal domain\n",
    "index_set_not_bc = get_interior_index_set(bc, V)\n",
    "\n",
    "# Reduce matrices\n",
    "K_geom_reduced = reduce_matrix(K_geom, index_set_not_bc)\n",
    "K_el_reduced = reduce_matrix(K_el, index_set_not_bc)\n",
    "M_mat_reduced = reduce_matrix(M_mat, index_set_not_bc)\n",
    "\n",
    "# Get petsc matrices for stiffness and mass\n",
    "Kg = K_geom_reduced.mat()\n",
    "K0 = K_el_reduced.mat()\n",
    "M0 = M_mat_reduced.mat()\n",
    "\n",
    "# Set empty matrix\n",
    "null = PETSc.Mat()"
   ]
  },
  {
   "cell_type": "markdown",
   "metadata": {},
   "source": [
    "## Testing the SLEPc4py eigenvalue solver:"
   ]
  },
  {
   "cell_type": "code",
   "execution_count": 8,
   "metadata": {
    "collapsed": false
   },
   "outputs": [
    {
     "name": "stdout",
     "output_type": "stream",
     "text": [
      "System size: 350\n",
      "Number of iterations of the method: 66\n",
      "Number of converged eigenpairs: 10\n",
      "[  3.43772444e+02   1.22255915e+04   7.36058443e+04   8.44593197e+04\n",
      "   2.77162880e+05   6.40796377e+05   6.61260967e+05   1.21620249e+06\n",
      "   1.82982315e+06   2.02633508e+06]\n"
     ]
    }
   ],
   "source": [
    "# WIP: formulate eigensolver using slepc directly based on: https://github.com/MiroK/cbc.block-eig/blob/master/stokes.py\n",
    "\n",
    "# set number of eigenvalues to 10\n",
    "neigs = 10\n",
    "\n",
    "# Setup the eigensolver\n",
    "solver = SLEPc.EPS().create()\n",
    "solver.setOperators(K0, M0)\n",
    "solver.setType(solver.Type.GD)\n",
    "solver.setDimensions(neigs, PETSc.DECIDE)\n",
    "solver.setWhichEigenpairs(solver.Which.SMALLEST_REAL)\n",
    "solver.setProblemType(SLEPc.EPS.ProblemType.GHEP)\n",
    "\n",
    "preconditioner = solver.getST().getKSP().getPC()\n",
    "preconditioner.setType(\"lu\")\n",
    "\n",
    "solver.setFromOptions()\n",
    "\n",
    "# Solve the eigensystem\n",
    "solver.solve()\n",
    "\n",
    "print('System size: %i' % K0.size[0])\n",
    "its = solver.getIterationNumber()\n",
    "print('Number of iterations of the method: %i' % its)\n",
    "nconv = solver.getConverged()\n",
    "print('Number of converged eigenpairs: %d' % nconv)\n",
    "if nconv > 0:\n",
    "    print(np.array([solver.getEigenvalue(i).real for i in range(nconv)]))"
   ]
  },
  {
   "cell_type": "markdown",
   "metadata": {
    "collapsed": false
   },
   "source": [
    "### Try all solver types: ###"
   ]
  },
  {
   "cell_type": "markdown",
   "metadata": {},
   "source": [
    "First try all solvers on the classic eigenvalue problem $\\mathbf{K}\\phi = \\lambda \\mathbf{M} \\phi $:"
   ]
  },
  {
   "cell_type": "code",
   "execution_count": 9,
   "metadata": {
    "collapsed": true
   },
   "outputs": [],
   "source": [
    "import time\n",
    "soltypes = ['POWER', 'SUBSPACE', 'ARNOLDI', 'LANCZOS', 'KRYLOVSCHUR',\n",
    "            'GD', 'JD', 'RQCG', 'LOBPCG', 'CISS'] \n",
    "\n",
    "pctypes_long = [\"none\", \"jacobi\", \"sor\", \"lu\", \"bjacobi\", \"mg\", \"eisenstat\", \"ilu\", \"icc\", \"asm\", \n",
    "                \"gasm\", \"ksp\", \"spai\", \"nn\", \"cholesky\", \"pbjacobi\", \"mat\", \"hypre\", \"parms\", \"tfs\",\n",
    "                \"ml\", \"galerkin\", \"exotic\", \"cp\", \"bfbt\", \"lsc\", \"pfmg\", \"syspfmg\", \"svd\", \"gamg\", \n",
    "                \"chowiluviennacl\", \"rowscalingviennacl\", \"saviennacl\", \"bddc\", \"kaczmarz\", \"telescope\"]\n",
    "\n",
    "pctypes = [\"jacobi\", \"sor\", \"lu\", \"bjacobi\", \"ilu\", \"icc\", \"asm\", \"gasm\", \"gamg\", \"cholesky\"]\n",
    "\n",
    "# fieldsplit preconditioner seems useful for block matrices so you can set a preconditioner for each block"
   ]
  },
  {
   "cell_type": "code",
   "execution_count": 10,
   "metadata": {
    "collapsed": true
   },
   "outputs": [],
   "source": [
    "comm = mpi_comm_world()\n",
    "Jac_1 = PETSc.Mat().createNest([[-K0, null], \n",
    "                                [null, M0]], comm=comm)\n",
    "Jac_2 = PETSc.Mat().createNest([[null, M0], \n",
    "                                [M0, null]], comm=comm)\n",
    "\n",
    "# Can I use block matrices like this?\n",
    "# Assembling does not seem to change anything"
   ]
  },
  {
   "cell_type": "code",
   "execution_count": 13,
   "metadata": {
    "collapsed": false,
    "scrolled": false
   },
   "outputs": [
    {
     "name": "stdout",
     "output_type": "stream",
     "text": [
      "System size: 700\n",
      "FAILED: trying to use POWER and jacobi: 0 ms\n",
      "FAILED: trying to use SUBSPACE and jacobi: 0 ms\n",
      "FAILED: trying to use ARNOLDI and jacobi: 0 ms\n",
      "FAILED: trying to use LANCZOS and jacobi: 0 ms\n",
      "FAILED: trying to use KRYLOVSCHUR and jacobi: 0 ms\n",
      "Time elapsed using GD and jacobi:   627 ms\n",
      "   Number of iterations of the method: 1700\n",
      "   Number of converged eigenpairs:     0\n",
      "Time elapsed using JD and jacobi:   9590 ms\n",
      "   Number of iterations of the method: 1700\n",
      "   Number of converged eigenpairs:     0\n",
      "FAILED: trying to use RQCG and jacobi: 0 ms\n",
      "FAILED: trying to use LOBPCG and jacobi: 0 ms\n",
      "FAILED: trying to use CISS and jacobi: 1 ms\n",
      "FAILED: trying to use POWER and sor: 0 ms\n",
      "FAILED: trying to use SUBSPACE and sor: 0 ms\n",
      "FAILED: trying to use ARNOLDI and sor: 0 ms\n",
      "FAILED: trying to use LANCZOS and sor: 0 ms\n",
      "FAILED: trying to use KRYLOVSCHUR and sor: 0 ms\n",
      "Time elapsed using GD and sor:   654 ms\n",
      "   Number of iterations of the method: 1700\n",
      "   Number of converged eigenpairs:     0\n",
      "Time elapsed using JD and sor:   9563 ms\n",
      "   Number of iterations of the method: 1700\n",
      "   Number of converged eigenpairs:     0\n",
      "FAILED: trying to use RQCG and sor: 0 ms\n",
      "FAILED: trying to use LOBPCG and sor: 1 ms\n",
      "FAILED: trying to use CISS and sor: 0 ms\n",
      "FAILED: trying to use POWER and lu: 1 ms\n",
      "FAILED: trying to use SUBSPACE and lu: 0 ms\n",
      "FAILED: trying to use ARNOLDI and lu: 0 ms\n",
      "FAILED: trying to use LANCZOS and lu: 0 ms\n",
      "FAILED: trying to use KRYLOVSCHUR and lu: 0 ms\n",
      "Time elapsed using GD and lu:   669 ms\n",
      "   Number of iterations of the method: 1700\n",
      "   Number of converged eigenpairs:     0\n",
      "Time elapsed using JD and lu:   9622 ms\n",
      "   Number of iterations of the method: 1700\n",
      "   Number of converged eigenpairs:     0\n",
      "FAILED: trying to use RQCG and lu: 1 ms\n",
      "FAILED: trying to use LOBPCG and lu: 0 ms\n",
      "FAILED: trying to use CISS and lu: 0 ms\n",
      "FAILED: trying to use POWER and bjacobi: 0 ms\n",
      "FAILED: trying to use SUBSPACE and bjacobi: 0 ms\n",
      "FAILED: trying to use ARNOLDI and bjacobi: 0 ms\n",
      "FAILED: trying to use LANCZOS and bjacobi: 0 ms\n",
      "FAILED: trying to use KRYLOVSCHUR and bjacobi: 1 ms\n",
      "Time elapsed using GD and bjacobi:   585 ms\n",
      "   Number of iterations of the method: 1700\n",
      "   Number of converged eigenpairs:     0\n",
      "Time elapsed using JD and bjacobi:   9734 ms\n",
      "   Number of iterations of the method: 1700\n",
      "   Number of converged eigenpairs:     0\n",
      "FAILED: trying to use RQCG and bjacobi: 1 ms\n",
      "FAILED: trying to use LOBPCG and bjacobi: 0 ms\n",
      "FAILED: trying to use CISS and bjacobi: 0 ms\n",
      "FAILED: trying to use POWER and ilu: 0 ms\n",
      "FAILED: trying to use SUBSPACE and ilu: 0 ms\n",
      "FAILED: trying to use ARNOLDI and ilu: 0 ms\n",
      "FAILED: trying to use LANCZOS and ilu: 0 ms\n",
      "FAILED: trying to use KRYLOVSCHUR and ilu: 0 ms\n",
      "Time elapsed using GD and ilu:   583 ms\n",
      "   Number of iterations of the method: 1700\n",
      "   Number of converged eigenpairs:     0\n",
      "Time elapsed using JD and ilu:   10430 ms\n",
      "   Number of iterations of the method: 1700\n",
      "   Number of converged eigenpairs:     0\n",
      "FAILED: trying to use RQCG and ilu: 0 ms\n",
      "FAILED: trying to use LOBPCG and ilu: 0 ms\n",
      "FAILED: trying to use CISS and ilu: 0 ms\n",
      "FAILED: trying to use POWER and icc: 0 ms\n",
      "FAILED: trying to use SUBSPACE and icc: 0 ms\n",
      "FAILED: trying to use ARNOLDI and icc: 0 ms\n",
      "FAILED: trying to use LANCZOS and icc: 0 ms\n",
      "FAILED: trying to use KRYLOVSCHUR and icc: 0 ms\n",
      "Time elapsed using GD and icc:   649 ms\n",
      "   Number of iterations of the method: 1700\n",
      "   Number of converged eigenpairs:     0\n",
      "Time elapsed using JD and icc:   10075 ms\n",
      "   Number of iterations of the method: 1700\n",
      "   Number of converged eigenpairs:     0\n",
      "FAILED: trying to use RQCG and icc: 1 ms\n",
      "FAILED: trying to use LOBPCG and icc: 0 ms\n",
      "FAILED: trying to use CISS and icc: 0 ms\n",
      "FAILED: trying to use POWER and asm: 0 ms\n",
      "FAILED: trying to use SUBSPACE and asm: 0 ms\n",
      "FAILED: trying to use ARNOLDI and asm: 0 ms\n",
      "FAILED: trying to use LANCZOS and asm: 0 ms\n",
      "FAILED: trying to use KRYLOVSCHUR and asm: 0 ms\n",
      "Time elapsed using GD and asm:   584 ms\n",
      "   Number of iterations of the method: 1700\n",
      "   Number of converged eigenpairs:     0\n",
      "Time elapsed using JD and asm:   10878 ms\n",
      "   Number of iterations of the method: 1700\n",
      "   Number of converged eigenpairs:     0\n",
      "FAILED: trying to use RQCG and asm: 0 ms\n",
      "FAILED: trying to use LOBPCG and asm: 1 ms\n",
      "FAILED: trying to use CISS and asm: 0 ms\n",
      "FAILED: trying to use POWER and gasm: 0 ms\n",
      "FAILED: trying to use SUBSPACE and gasm: 0 ms\n",
      "FAILED: trying to use ARNOLDI and gasm: 0 ms\n",
      "FAILED: trying to use LANCZOS and gasm: 0 ms\n",
      "FAILED: trying to use KRYLOVSCHUR and gasm: 0 ms\n",
      "Time elapsed using GD and gasm:   577 ms\n",
      "   Number of iterations of the method: 1700\n",
      "   Number of converged eigenpairs:     0\n",
      "Time elapsed using JD and gasm:   10189 ms\n",
      "   Number of iterations of the method: 1700\n",
      "   Number of converged eigenpairs:     0\n",
      "FAILED: trying to use RQCG and gasm: 0 ms\n",
      "FAILED: trying to use LOBPCG and gasm: 0 ms\n",
      "FAILED: trying to use CISS and gasm: 0 ms\n",
      "FAILED: trying to use POWER and gamg: 0 ms\n",
      "FAILED: trying to use SUBSPACE and gamg: 0 ms\n",
      "FAILED: trying to use ARNOLDI and gamg: 0 ms\n",
      "FAILED: trying to use LANCZOS and gamg: 0 ms\n",
      "FAILED: trying to use KRYLOVSCHUR and gamg: 0 ms\n",
      "Time elapsed using GD and gamg:   587 ms\n",
      "   Number of iterations of the method: 1700\n",
      "   Number of converged eigenpairs:     0\n",
      "Time elapsed using JD and gamg:   9719 ms\n",
      "   Number of iterations of the method: 1700\n",
      "   Number of converged eigenpairs:     0\n",
      "FAILED: trying to use RQCG and gamg: 0 ms\n",
      "FAILED: trying to use LOBPCG and gamg: 0 ms\n",
      "FAILED: trying to use CISS and gamg: 1 ms\n",
      "FAILED: trying to use POWER and cholesky: 0 ms\n",
      "FAILED: trying to use SUBSPACE and cholesky: 0 ms\n",
      "FAILED: trying to use ARNOLDI and cholesky: 0 ms\n",
      "FAILED: trying to use LANCZOS and cholesky: 0 ms\n",
      "FAILED: trying to use KRYLOVSCHUR and cholesky: 0 ms\n",
      "Time elapsed using GD and cholesky:   695 ms\n",
      "   Number of iterations of the method: 1700\n",
      "   Number of converged eigenpairs:     0\n",
      "Time elapsed using JD and cholesky:   9707 ms\n",
      "   Number of iterations of the method: 1700\n",
      "   Number of converged eigenpairs:     0\n",
      "FAILED: trying to use RQCG and cholesky: 0 ms\n",
      "FAILED: trying to use LOBPCG and cholesky: 0 ms\n",
      "FAILED: trying to use CISS and cholesky: 1 ms\n",
      "finished\n",
      "Total time elapsed: 105772 ms\n"
     ]
    },
    {
     "ename": "ValueError",
     "evalue": "attempt to get argmin of an empty sequence",
     "output_type": "error",
     "traceback": [
      "\u001b[0;31m\u001b[0m",
      "\u001b[0;31mValueError\u001b[0mTraceback (most recent call last)",
      "\u001b[0;32m<ipython-input-13-2d5015b66f7f>\u001b[0m in \u001b[0;36m<module>\u001b[0;34m()\u001b[0m\n\u001b[1;32m     48\u001b[0m \u001b[0;32mprint\u001b[0m\u001b[0;34m(\u001b[0m\u001b[0;34m\"finished\"\u001b[0m\u001b[0;34m)\u001b[0m\u001b[0;34m\u001b[0m\u001b[0m\n\u001b[1;32m     49\u001b[0m \u001b[0;32mprint\u001b[0m\u001b[0;34m(\u001b[0m\u001b[0;34m''\u001b[0m\u001b[0;34m.\u001b[0m\u001b[0mjoin\u001b[0m\u001b[0;34m(\u001b[0m\u001b[0;34m[\u001b[0m\u001b[0;34m\"Total time elapsed: \"\u001b[0m\u001b[0;34m,\u001b[0m \u001b[0mstr\u001b[0m\u001b[0;34m(\u001b[0m\u001b[0mint\u001b[0m\u001b[0;34m(\u001b[0m\u001b[0mround\u001b[0m\u001b[0;34m(\u001b[0m\u001b[0mtime\u001b[0m\u001b[0;34m.\u001b[0m\u001b[0mtime\u001b[0m\u001b[0;34m(\u001b[0m\u001b[0;34m)\u001b[0m \u001b[0;34m*\u001b[0m \u001b[0;36m1000\u001b[0m\u001b[0;34m)\u001b[0m\u001b[0;34m)\u001b[0m \u001b[0;34m-\u001b[0m \u001b[0mt00\u001b[0m\u001b[0;34m)\u001b[0m\u001b[0;34m,\u001b[0m \u001b[0;34m' ms'\u001b[0m\u001b[0;34m]\u001b[0m\u001b[0;34m)\u001b[0m\u001b[0;34m)\u001b[0m\u001b[0;34m\u001b[0m\u001b[0m\n\u001b[0;32m---> 50\u001b[0;31m \u001b[0;32mprint\u001b[0m\u001b[0;34m(\u001b[0m\u001b[0;34m''\u001b[0m\u001b[0;34m.\u001b[0m\u001b[0mjoin\u001b[0m\u001b[0;34m(\u001b[0m\u001b[0;34m[\u001b[0m\u001b[0malgorithm_series\u001b[0m\u001b[0;34m[\u001b[0m\u001b[0mnp\u001b[0m\u001b[0;34m.\u001b[0m\u001b[0margmin\u001b[0m\u001b[0;34m(\u001b[0m\u001b[0mtime_series\u001b[0m\u001b[0;34m)\u001b[0m\u001b[0;34m]\u001b[0m\u001b[0;34m,\u001b[0m \u001b[0;34m\" is the fastest combination in this case\"\u001b[0m\u001b[0;34m]\u001b[0m\u001b[0;34m)\u001b[0m\u001b[0;34m)\u001b[0m\u001b[0;34m\u001b[0m\u001b[0m\n\u001b[0m",
      "\u001b[0;32m/usr/lib/python2.7/dist-packages/numpy/core/fromnumeric.pyc\u001b[0m in \u001b[0;36margmin\u001b[0;34m(a, axis, out)\u001b[0m\n\u001b[1;32m   1031\u001b[0m         \u001b[0margmin\u001b[0m \u001b[0;34m=\u001b[0m \u001b[0ma\u001b[0m\u001b[0;34m.\u001b[0m\u001b[0margmin\u001b[0m\u001b[0;34m\u001b[0m\u001b[0m\n\u001b[1;32m   1032\u001b[0m     \u001b[0;32mexcept\u001b[0m \u001b[0mAttributeError\u001b[0m\u001b[0;34m:\u001b[0m\u001b[0;34m\u001b[0m\u001b[0m\n\u001b[0;32m-> 1033\u001b[0;31m         \u001b[0;32mreturn\u001b[0m \u001b[0m_wrapit\u001b[0m\u001b[0;34m(\u001b[0m\u001b[0ma\u001b[0m\u001b[0;34m,\u001b[0m \u001b[0;34m'argmin'\u001b[0m\u001b[0;34m,\u001b[0m \u001b[0maxis\u001b[0m\u001b[0;34m,\u001b[0m \u001b[0mout\u001b[0m\u001b[0;34m)\u001b[0m\u001b[0;34m\u001b[0m\u001b[0m\n\u001b[0m\u001b[1;32m   1034\u001b[0m     \u001b[0;32mreturn\u001b[0m \u001b[0margmin\u001b[0m\u001b[0;34m(\u001b[0m\u001b[0maxis\u001b[0m\u001b[0;34m,\u001b[0m \u001b[0mout\u001b[0m\u001b[0;34m)\u001b[0m\u001b[0;34m\u001b[0m\u001b[0m\n\u001b[1;32m   1035\u001b[0m \u001b[0;34m\u001b[0m\u001b[0m\n",
      "\u001b[0;32m/usr/lib/python2.7/dist-packages/numpy/core/fromnumeric.pyc\u001b[0m in \u001b[0;36m_wrapit\u001b[0;34m(obj, method, *args, **kwds)\u001b[0m\n\u001b[1;32m     46\u001b[0m     \u001b[0;32mexcept\u001b[0m \u001b[0mAttributeError\u001b[0m\u001b[0;34m:\u001b[0m\u001b[0;34m\u001b[0m\u001b[0m\n\u001b[1;32m     47\u001b[0m         \u001b[0mwrap\u001b[0m \u001b[0;34m=\u001b[0m \u001b[0mNone\u001b[0m\u001b[0;34m\u001b[0m\u001b[0m\n\u001b[0;32m---> 48\u001b[0;31m     \u001b[0mresult\u001b[0m \u001b[0;34m=\u001b[0m \u001b[0mgetattr\u001b[0m\u001b[0;34m(\u001b[0m\u001b[0masarray\u001b[0m\u001b[0;34m(\u001b[0m\u001b[0mobj\u001b[0m\u001b[0;34m)\u001b[0m\u001b[0;34m,\u001b[0m \u001b[0mmethod\u001b[0m\u001b[0;34m)\u001b[0m\u001b[0;34m(\u001b[0m\u001b[0;34m*\u001b[0m\u001b[0margs\u001b[0m\u001b[0;34m,\u001b[0m \u001b[0;34m**\u001b[0m\u001b[0mkwds\u001b[0m\u001b[0;34m)\u001b[0m\u001b[0;34m\u001b[0m\u001b[0m\n\u001b[0m\u001b[1;32m     49\u001b[0m     \u001b[0;32mif\u001b[0m \u001b[0mwrap\u001b[0m\u001b[0;34m:\u001b[0m\u001b[0;34m\u001b[0m\u001b[0m\n\u001b[1;32m     50\u001b[0m         \u001b[0;32mif\u001b[0m \u001b[0;32mnot\u001b[0m \u001b[0misinstance\u001b[0m\u001b[0;34m(\u001b[0m\u001b[0mresult\u001b[0m\u001b[0;34m,\u001b[0m \u001b[0mmu\u001b[0m\u001b[0;34m.\u001b[0m\u001b[0mndarray\u001b[0m\u001b[0;34m)\u001b[0m\u001b[0;34m:\u001b[0m\u001b[0;34m\u001b[0m\u001b[0m\n",
      "\u001b[0;31mValueError\u001b[0m: attempt to get argmin of an empty sequence"
     ]
    }
   ],
   "source": [
    "# set number of eigenvalues to 10\n",
    "neigs = 1\n",
    "print('System size: %i' % Jac_1.size[0])\n",
    "\n",
    "t00 = int(round(time.time() * 1000))\n",
    "\n",
    "time_series = []\n",
    "algorithm_series = []\n",
    "\n",
    "for prcndtn in pctypes:\n",
    "    \n",
    "    preconditioner = PETSc.KSP().create().getPC()\n",
    "    preconditioner.setType(prcndtn)\n",
    "\n",
    "    \n",
    "    for slvr in soltypes:\n",
    "        t0 = int(round(time.time() * 1000))\n",
    "        slvr_str = \"\".join([\"solver.Type.\", slvr])\n",
    "        \n",
    "        # Setup the eigensolver\n",
    "        solver = SLEPc.EPS().create()\n",
    "        solver.setOperators(Jac_1, Jac_2)\n",
    "        solver.setDimensions(neigs, PETSc.DECIDE)\n",
    "        solver.setWhichEigenpairs(solver.Which.SMALLEST_REAL)\n",
    "        solver.setProblemType(SLEPc.EPS.ProblemType.GNHEP)\n",
    "    \n",
    "        # Set solver type\n",
    "        solver.setType(eval(slvr_str))\n",
    "        solver.setFromOptions()\n",
    "\n",
    "        # Solve the eigensystem\n",
    "        try: \n",
    "            solver.solve()\n",
    "            st = int(round(time.time() * 1000)) - t0\n",
    "            print(''.join([\"Time elapsed using \", slvr , \" and \", prcndtn, \":   \", str(st), ' ms']))\n",
    "            \n",
    "            its = solver.getIterationNumber()\n",
    "            print('   Number of iterations of the method: %i' % its)\n",
    "            nconv = solver.getConverged()\n",
    "            print('   Number of converged eigenpairs:     %d' % nconv)\n",
    "            if nconv > 0.:\n",
    "                time_series.append(st)\n",
    "                algorithm_series.append(''.join([slvr , \" and \", prcndtn]))\n",
    "        except:\n",
    "            st = int(round(time.time() * 1000)) - t0\n",
    "            print(''.join([\"FAILED: trying to use \", slvr , \" and \", prcndtn, \": \", str(st), ' ms']))\n",
    "        solver.destroy()\n",
    "print(\"finished\")\n",
    "print(''.join([\"Total time elapsed: \", str(int(round(time.time() * 1000)) - t00), ' ms']))\n",
    "if len(time_series) > 0.:\n",
    "    print(''.join([algorithm_series[np.argmin(time_series)], \" is the fastest combination in this case\"]))"
   ]
  },
  {
   "cell_type": "code",
   "execution_count": 17,
   "metadata": {
    "collapsed": false
   },
   "outputs": [],
   "source": [
    "solver = SLEPc.EPS().create()\n",
    "slvr = 'GD' \n",
    "prcndtn = 'gamg'"
   ]
  },
  {
   "cell_type": "code",
   "execution_count": 31,
   "metadata": {
    "collapsed": false
   },
   "outputs": [
    {
     "name": "stdout",
     "output_type": "stream",
     "text": [
      "0\n"
     ]
    }
   ],
   "source": [
    "preconditioner = PETSc.KSP().create().getPC()\n",
    "preconditioner.setType(prcndtn)\n",
    "\n",
    "slvr_str = \"\".join([\"solver.Type.\", slvr])\n",
    "\n",
    "# Setup the eigensolver\n",
    "solver = SLEPc.EPS().create()\n",
    "solver.setOperators(Jac_1, Jac_2)\n",
    "solver.setDimensions(neigs, PETSc.DECIDE)\n",
    "solver.setWhichEigenpairs(solver.Which.SMALLEST_REAL)\n",
    "solver.setProblemType(SLEPc.EPS.ProblemType.GNHEP)\n",
    "solver.setTolerances(tol=1e-9, max_it=None)\n",
    "\n",
    "# Set solver type\n",
    "solver.setType(eval(slvr_str))\n",
    "solver.setFromOptions()\n",
    "\n",
    "# Solve the eigensystem\n",
    "solver.solve()\n",
    "\n",
    "print(solver.getConverged())"
   ]
  },
  {
   "cell_type": "code",
   "execution_count": null,
   "metadata": {
    "collapsed": true
   },
   "outputs": [],
   "source": []
  }
 ],
 "metadata": {
  "kernelspec": {
   "display_name": "Python 2",
   "language": "python",
   "name": "python2"
  },
  "language_info": {
   "codemirror_mode": {
    "name": "ipython",
    "version": 2
   },
   "file_extension": ".py",
   "mimetype": "text/x-python",
   "name": "python",
   "nbconvert_exporter": "python",
   "pygments_lexer": "ipython2",
   "version": "2.7.12"
  }
 },
 "nbformat": 4,
 "nbformat_minor": 2
}
